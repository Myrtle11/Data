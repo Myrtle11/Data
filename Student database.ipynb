{
 "cells": [
  {
   "cell_type": "code",
   "execution_count": null,
   "id": "46b5e1f9",
   "metadata": {},
   "outputs": [],
   "source": [
    "-- Create a table to store student information\n",
    "CREATE TABLE students (\n",
    "  student_id INT PRIMARY KEY,\n",
    "  first_name VARCHAR(20),\n",
    "  last_name VARCHAR(20),\n",
    "  email VARCHAR(50),\n",
    "  phone VARCHAR(11),\n",
    "  address VARCHAR(100)\n",
    ");\n",
    "\n",
    "-- Create a table to store course information\n",
    "CREATE TABLE courses (\n",
    "  course_id INT PRIMARY KEY,\n",
    "  course_name VARCHAR(25),\n",
    "  instructor VARCHAR(60),\n",
    "  credits INT\n",
    ");\n",
    "\n",
    "-- Create a table to store student enrollment information\n",
    "CREATE TABLE enrollments (\n",
    "  enrollment_id INT PRIMARY KEY,\n",
    "  student_id INT,\n",
    "  course_id INT,\n",
    "  enrollment_date DATE,\n",
    "  grade VARCHAR(2),\n",
    "  FOREIGN KEY (student_id) REFERENCES students(student_id),\n",
    "  FOREIGN KEY (course_id) REFERENCES courses(course_id)\n",
    ");\n",
    "\n",
    "-- Insert data into the students table\n",
    "INSERT INTO students (student_id, first_name, last_name, email, phone, address)\n",
    "VALUES (1, 'John', 'Doe', 'johndoe@email.com', '123-456-7890', '123 Main St'),\n",
    "       (2, 'Jane', 'Smith', 'janesmith@email.com', '555-555-5555', '456 Oak St');\n",
    "\n",
    "-- Insert data into the courses table\n",
    "INSERT INTO courses (course_id, course_name, instructor, credits)\n",
    "VALUES (1, 'Introduction to Computer Science', 'Dr. Johnson', 3),\n",
    "       (2, 'Database Management Systems', 'Dr. Lee', 3);\n",
    "\n",
    "-- Insert data into the enrollments table\n",
    "INSERT INTO enrollments (enrollment_id, student_id, course_id, enrollment_date, grade)\n",
    "VALUES (1, 1, 1, '2022-01-01', 'A'),\n",
    "       (2, 1, 2, '2022-02-01', 'B'),\n",
    "       (3, 2, 1, '2022-01-01', 'B'),\n",
    "       (4, 2, 2, '2022-02-01', 'A');\n",
    "\n",
    "-- Select all students and their enrollment information\n",
    "SELECT students.student_id, students.first_name, students.last_name, courses.course_name, enrollments.grade\n",
    "FROM students\n",
    "JOIN enrollments ON students.student_id = enrollments.student_id\n",
    "JOIN courses ON enrollments.course_id = courses.course_id;s"
   ]
  }
 ],
 "metadata": {
  "kernelspec": {
   "display_name": "Python 3 (ipykernel)",
   "language": "python",
   "name": "python3"
  },
  "language_info": {
   "codemirror_mode": {
    "name": "ipython",
    "version": 3
   },
   "file_extension": ".py",
   "mimetype": "text/x-python",
   "name": "python",
   "nbconvert_exporter": "python",
   "pygments_lexer": "ipython3",
   "version": "3.9.12"
  }
 },
 "nbformat": 4,
 "nbformat_minor": 5
}
